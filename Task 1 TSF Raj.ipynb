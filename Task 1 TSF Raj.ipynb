{
 "cells": [
  {
   "cell_type": "markdown",
   "metadata": {
    "id": "HxQyb82WYIMH"
   },
   "source": [
    "# <font color = Blue> The Sparks Foundation Task 1 -</font> <font color = red> GRIPJUNE21 </font>\n"
   ]
  },
  {
   "cell_type": "markdown",
   "metadata": {
    "id": "79ilzXXdYIMR"
   },
   "source": [
    "# <font color='red'>NAME:-</font> <font color = darkblue>\"Rajkumar Choudhary\"<b></font>\n"
   ]
  },
  {
   "cell_type": "markdown",
   "metadata": {
    "id": "eaRhIO3KYIMS"
   },
   "source": [
    "# \"Predict the percentage of an student based on there no. of Daily study hours.\""
   ]
  },
  {
   "cell_type": "markdown",
   "metadata": {
    "id": "TY3U1VbMYIMS"
   },
   "source": [
    "# <font color = 'red'>-------------------------------------------------------------------------------------------------</font>\n",
    "# <font color = 'blue'>=======================================================</font>\n",
    "# <font color = 'red'>-------------------------------------------------------------------------------------------------</font>\n"
   ]
  },
  {
   "cell_type": "markdown",
   "metadata": {
    "id": "f4LI5U_bYIMT"
   },
   "source": [
    "# \"Import the Important libraries.\""
   ]
  },
  {
   "cell_type": "code",
   "execution_count": 1,
   "metadata": {
    "id": "DBYhTd1cYIMT"
   },
   "outputs": [],
   "source": [
    "import numpy as np\n",
    "import pandas as pd\n",
    "import matplotlib.pyplot as plt"
   ]
  },
  {
   "cell_type": "markdown",
   "metadata": {},
   "source": [
    "# \"Import The Dataset From The URL Which Is Given.\""
   ]
  },
  {
   "cell_type": "code",
   "execution_count": 2,
   "metadata": {
    "id": "sRsrgzuzYIMU"
   },
   "outputs": [],
   "source": [
    "url = \"http://bit.ly/w-data\"\n",
    "df = pd.read_csv(url)"
   ]
  },
  {
   "cell_type": "code",
   "execution_count": 3,
   "metadata": {
    "colab": {
     "base_uri": "https://localhost:8080/",
     "height": 195
    },
    "id": "dhxzJUSFYIMV",
    "outputId": "fbed7d1e-d669-4992-c240-2d2e7dd7d281"
   },
   "outputs": [
    {
     "data": {
      "text/html": [
       "<div>\n",
       "<style scoped>\n",
       "    .dataframe tbody tr th:only-of-type {\n",
       "        vertical-align: middle;\n",
       "    }\n",
       "\n",
       "    .dataframe tbody tr th {\n",
       "        vertical-align: top;\n",
       "    }\n",
       "\n",
       "    .dataframe thead th {\n",
       "        text-align: right;\n",
       "    }\n",
       "</style>\n",
       "<table border=\"1\" class=\"dataframe\">\n",
       "  <thead>\n",
       "    <tr style=\"text-align: right;\">\n",
       "      <th></th>\n",
       "      <th>Hours</th>\n",
       "      <th>Scores</th>\n",
       "    </tr>\n",
       "  </thead>\n",
       "  <tbody>\n",
       "    <tr>\n",
       "      <th>0</th>\n",
       "      <td>2.5</td>\n",
       "      <td>21</td>\n",
       "    </tr>\n",
       "    <tr>\n",
       "      <th>1</th>\n",
       "      <td>5.1</td>\n",
       "      <td>47</td>\n",
       "    </tr>\n",
       "    <tr>\n",
       "      <th>2</th>\n",
       "      <td>3.2</td>\n",
       "      <td>27</td>\n",
       "    </tr>\n",
       "    <tr>\n",
       "      <th>3</th>\n",
       "      <td>8.5</td>\n",
       "      <td>75</td>\n",
       "    </tr>\n",
       "    <tr>\n",
       "      <th>4</th>\n",
       "      <td>3.5</td>\n",
       "      <td>30</td>\n",
       "    </tr>\n",
       "  </tbody>\n",
       "</table>\n",
       "</div>"
      ],
      "text/plain": [
       "   Hours  Scores\n",
       "0    2.5      21\n",
       "1    5.1      47\n",
       "2    3.2      27\n",
       "3    8.5      75\n",
       "4    3.5      30"
      ]
     },
     "execution_count": 3,
     "metadata": {},
     "output_type": "execute_result"
    }
   ],
   "source": [
    "df.head()"
   ]
  },
  {
   "cell_type": "code",
   "execution_count": 4,
   "metadata": {
    "colab": {
     "base_uri": "https://localhost:8080/",
     "height": 195
    },
    "id": "7vflAtHTYIMW",
    "outputId": "6fbf2636-cf92-4340-fa69-9cbb72aaf2dc"
   },
   "outputs": [
    {
     "data": {
      "text/html": [
       "<div>\n",
       "<style scoped>\n",
       "    .dataframe tbody tr th:only-of-type {\n",
       "        vertical-align: middle;\n",
       "    }\n",
       "\n",
       "    .dataframe tbody tr th {\n",
       "        vertical-align: top;\n",
       "    }\n",
       "\n",
       "    .dataframe thead th {\n",
       "        text-align: right;\n",
       "    }\n",
       "</style>\n",
       "<table border=\"1\" class=\"dataframe\">\n",
       "  <thead>\n",
       "    <tr style=\"text-align: right;\">\n",
       "      <th></th>\n",
       "      <th>Hours</th>\n",
       "      <th>Scores</th>\n",
       "    </tr>\n",
       "  </thead>\n",
       "  <tbody>\n",
       "    <tr>\n",
       "      <th>20</th>\n",
       "      <td>2.7</td>\n",
       "      <td>30</td>\n",
       "    </tr>\n",
       "    <tr>\n",
       "      <th>21</th>\n",
       "      <td>4.8</td>\n",
       "      <td>54</td>\n",
       "    </tr>\n",
       "    <tr>\n",
       "      <th>22</th>\n",
       "      <td>3.8</td>\n",
       "      <td>35</td>\n",
       "    </tr>\n",
       "    <tr>\n",
       "      <th>23</th>\n",
       "      <td>6.9</td>\n",
       "      <td>76</td>\n",
       "    </tr>\n",
       "    <tr>\n",
       "      <th>24</th>\n",
       "      <td>7.8</td>\n",
       "      <td>86</td>\n",
       "    </tr>\n",
       "  </tbody>\n",
       "</table>\n",
       "</div>"
      ],
      "text/plain": [
       "    Hours  Scores\n",
       "20    2.7      30\n",
       "21    4.8      54\n",
       "22    3.8      35\n",
       "23    6.9      76\n",
       "24    7.8      86"
      ]
     },
     "execution_count": 4,
     "metadata": {},
     "output_type": "execute_result"
    }
   ],
   "source": [
    "df.tail()"
   ]
  },
  {
   "cell_type": "markdown",
   "metadata": {},
   "source": [
    "# \"Gives a Short summary of DataFrame.\""
   ]
  },
  {
   "cell_type": "code",
   "execution_count": 5,
   "metadata": {
    "colab": {
     "base_uri": "https://localhost:8080/"
    },
    "id": "9FuhjuKeYIMX",
    "outputId": "8a0b9e5c-14ac-4b1f-f131-8091ce39ae7a"
   },
   "outputs": [
    {
     "name": "stdout",
     "output_type": "stream",
     "text": [
      "<class 'pandas.core.frame.DataFrame'>\n",
      "RangeIndex: 25 entries, 0 to 24\n",
      "Data columns (total 2 columns):\n",
      " #   Column  Non-Null Count  Dtype  \n",
      "---  ------  --------------  -----  \n",
      " 0   Hours   25 non-null     float64\n",
      " 1   Scores  25 non-null     int64  \n",
      "dtypes: float64(1), int64(1)\n",
      "memory usage: 528.0 bytes\n"
     ]
    }
   ],
   "source": [
    "df.info() "
   ]
  },
  {
   "cell_type": "markdown",
   "metadata": {
    "id": "OuvKosgkYIMX"
   },
   "source": [
    "#### Observation - The dataset has 25 rows and 2 columns with 0 null values"
   ]
  },
  {
   "cell_type": "markdown",
   "metadata": {},
   "source": [
    "# \"Computes a summary of statistics Variables to the DataFrame columns.\""
   ]
  },
  {
   "cell_type": "code",
   "execution_count": 6,
   "metadata": {
    "colab": {
     "base_uri": "https://localhost:8080/",
     "height": 284
    },
    "id": "6LIlugRAYIMY",
    "outputId": "5837a322-35ba-4763-c29b-79147cf383da"
   },
   "outputs": [
    {
     "data": {
      "text/html": [
       "<div>\n",
       "<style scoped>\n",
       "    .dataframe tbody tr th:only-of-type {\n",
       "        vertical-align: middle;\n",
       "    }\n",
       "\n",
       "    .dataframe tbody tr th {\n",
       "        vertical-align: top;\n",
       "    }\n",
       "\n",
       "    .dataframe thead th {\n",
       "        text-align: right;\n",
       "    }\n",
       "</style>\n",
       "<table border=\"1\" class=\"dataframe\">\n",
       "  <thead>\n",
       "    <tr style=\"text-align: right;\">\n",
       "      <th></th>\n",
       "      <th>Hours</th>\n",
       "      <th>Scores</th>\n",
       "    </tr>\n",
       "  </thead>\n",
       "  <tbody>\n",
       "    <tr>\n",
       "      <th>count</th>\n",
       "      <td>25.000000</td>\n",
       "      <td>25.000000</td>\n",
       "    </tr>\n",
       "    <tr>\n",
       "      <th>mean</th>\n",
       "      <td>5.012000</td>\n",
       "      <td>51.480000</td>\n",
       "    </tr>\n",
       "    <tr>\n",
       "      <th>std</th>\n",
       "      <td>2.525094</td>\n",
       "      <td>25.286887</td>\n",
       "    </tr>\n",
       "    <tr>\n",
       "      <th>min</th>\n",
       "      <td>1.100000</td>\n",
       "      <td>17.000000</td>\n",
       "    </tr>\n",
       "    <tr>\n",
       "      <th>25%</th>\n",
       "      <td>2.700000</td>\n",
       "      <td>30.000000</td>\n",
       "    </tr>\n",
       "    <tr>\n",
       "      <th>50%</th>\n",
       "      <td>4.800000</td>\n",
       "      <td>47.000000</td>\n",
       "    </tr>\n",
       "    <tr>\n",
       "      <th>75%</th>\n",
       "      <td>7.400000</td>\n",
       "      <td>75.000000</td>\n",
       "    </tr>\n",
       "    <tr>\n",
       "      <th>max</th>\n",
       "      <td>9.200000</td>\n",
       "      <td>95.000000</td>\n",
       "    </tr>\n",
       "  </tbody>\n",
       "</table>\n",
       "</div>"
      ],
      "text/plain": [
       "           Hours     Scores\n",
       "count  25.000000  25.000000\n",
       "mean    5.012000  51.480000\n",
       "std     2.525094  25.286887\n",
       "min     1.100000  17.000000\n",
       "25%     2.700000  30.000000\n",
       "50%     4.800000  47.000000\n",
       "75%     7.400000  75.000000\n",
       "max     9.200000  95.000000"
      ]
     },
     "execution_count": 6,
     "metadata": {},
     "output_type": "execute_result"
    }
   ],
   "source": [
    "df.describe()"
   ]
  },
  {
   "cell_type": "markdown",
   "metadata": {
    "id": "3K72mjv5YIMY"
   },
   "source": [
    "# Extracting  The Values Of \"X\" and \"Y\"."
   ]
  },
  {
   "cell_type": "markdown",
   "metadata": {},
   "source": [
    "# \"Here Using The iloc[  ] function to work with Numeric indexing of the DataFrame.\""
   ]
  },
  {
   "cell_type": "code",
   "execution_count": 45,
   "metadata": {
    "colab": {
     "base_uri": "https://localhost:8080/"
    },
    "id": "H-ULcqBnYIMY",
    "outputId": "c2e40dce-2ac5-4423-f747-c7216cbefd4f"
   },
   "outputs": [
    {
     "name": "stdout",
     "output_type": "stream",
     "text": [
      "[[2.5]\n",
      " [5.1]\n",
      " [3.2]\n",
      " [8.5]\n",
      " [3.5]\n",
      " [1.5]\n",
      " [9.2]\n",
      " [5.5]\n",
      " [8.3]\n",
      " [2.7]\n",
      " [7.7]\n",
      " [5.9]\n",
      " [4.5]\n",
      " [3.3]\n",
      " [1.1]\n",
      " [8.9]\n",
      " [2.5]\n",
      " [1.9]\n",
      " [6.1]\n",
      " [7.4]\n",
      " [2.7]\n",
      " [4.8]\n",
      " [3.8]\n",
      " [6.9]\n",
      " [7.8]]\n",
      "______________________________________________________________________________________________\n",
      "**********************************************************************************************\n",
      "[21 47 27 75 30 20 88 60 81 25 85 62 41 42 17 95 30 24 67 69 30 54 35 76\n",
      " 86]\n"
     ]
    }
   ],
   "source": [
    "x = df.iloc[: , :-1].values\n",
    "y = df.iloc[: , -1].values\n",
    "print(x)\n",
    "print(\"______________________________________________________________________________________________\")\n",
    "print(\"**********************************************************************************************\")\n",
    "print(y)"
   ]
  },
  {
   "cell_type": "markdown",
   "metadata": {
    "id": "wAtPOVIEYIMa"
   },
   "source": [
    "## \"Splitting the data into training and test set.\""
   ]
  },
  {
   "cell_type": "code",
   "execution_count": 8,
   "metadata": {
    "id": "HcYjYALCYIMb"
   },
   "outputs": [],
   "source": [
    "from sklearn.model_selection import train_test_split as tts\n",
    "#train_test_split randomly shuffles and divides all rows in order to have same shuffle, \n",
    "#same seed value(42 in this case) is given to random_state argument\n",
    "x_train, x_test, y_train, y_test = tts(x, y, test_size = 0.25, random_state = 42)"
   ]
  },
  {
   "cell_type": "markdown",
   "metadata": {
    "id": "BegNAf1OYIMc"
   },
   "source": [
    "# \"Training and implementing the Model.....\""
   ]
  },
  {
   "cell_type": "code",
   "execution_count": 9,
   "metadata": {
    "colab": {
     "base_uri": "https://localhost:8080/"
    },
    "id": "hxod8l9LYIMc",
    "outputId": "123b561d-88b3-4a17-f77e-4956ad822bda"
   },
   "outputs": [
    {
     "data": {
      "text/plain": [
       "LinearRegression()"
      ]
     },
     "execution_count": 9,
     "metadata": {},
     "output_type": "execute_result"
    }
   ],
   "source": [
    "#importing the linear regression model\n",
    "from sklearn.linear_model import LinearRegression\n",
    "lr = LinearRegression()\n",
    "lr.fit(x_train, y_train) #train this model by giving x_train and y_train as inputs"
   ]
  },
  {
   "cell_type": "markdown",
   "metadata": {},
   "source": [
    "# \"Prediction of values.....\""
   ]
  },
  {
   "cell_type": "code",
   "execution_count": 10,
   "metadata": {
    "colab": {
     "base_uri": "https://localhost:8080/"
    },
    "id": "34_-OCsBYIMc",
    "outputId": "f9152c0c-4384-4859-d746-49a64905cf3b"
   },
   "outputs": [
    {
     "name": "stdout",
     "output_type": "stream",
     "text": [
      "[83.10733229 26.76559757 26.76559757 69.50760322 59.79351103 28.70841601\n",
      " 34.53687133]\n"
     ]
    }
   ],
   "source": [
    "y_pred = lr.predict(x_test) \n",
    "print(y_pred)"
   ]
  },
  {
   "cell_type": "markdown",
   "metadata": {
    "id": "X2lJHK40YIMd"
   },
   "source": [
    "# \"Comparing the Actual and Predicted values....\""
   ]
  },
  {
   "cell_type": "code",
   "execution_count": 19,
   "metadata": {
    "colab": {
     "base_uri": "https://localhost:8080/"
    },
    "id": "NfYe1mzpYIMd",
    "outputId": "2ba5e826-6f60-4945-994a-33a81c2e92c5"
   },
   "outputs": [
    {
     "name": "stdout",
     "output_type": "stream",
     "text": [
      "   Actual Value  Predicted Value\n",
      "0            81        83.107332\n",
      "1            30        26.765598\n",
      "2            21        26.765598\n",
      "3            76        69.507603\n",
      "4            62        59.793511\n",
      "5            25        28.708416\n",
      "6            42        34.536871\n"
     ]
    }
   ],
   "source": [
    "compare = pd.DataFrame({ \"Actual Value\" : y_test, \"Predicted Value\" : y_pred})\n",
    "print(compare)"
   ]
  },
  {
   "cell_type": "markdown",
   "metadata": {
    "id": "PXJTIVEeYIMd"
   },
   "source": [
    "## \"Visualization of the predicted output.\""
   ]
  },
  {
   "cell_type": "code",
   "execution_count": 36,
   "metadata": {
    "colab": {
     "base_uri": "https://localhost:8080/",
     "height": 295
    },
    "id": "pHFp7iymYIMd",
    "outputId": "f2188c3d-f6bf-44bd-fd5f-2094562bf18e"
   },
   "outputs": [
    {
     "data": {
      "image/png": "[encoded data removed]",
      "text/plain": [
       "<Figure size 432x288 with 1 Axes>"
      ]
     },
     "metadata": {
      "needs_background": "light"
     },
     "output_type": "display_data"
    }
   ],
   "source": [
    "plt.scatter(x_test, y_test, color=\"green\") #plotting the data-points\n",
    "plt.plot(x_train, lr.predict(x_train), color='blue') #plotting the prediction line\n",
    "plt.title('...\"Prediction Result\"...',size=20,color= 'red')\n",
    "plt.xlabel('...\"Study Hours\"...',size=20, color= 'blue')\n",
    "plt.ylabel('...\"Score in Percentage\"...',size=20, color= 'green')\n",
    "plt.show()"
   ]
  },
  {
   "cell_type": "markdown",
   "metadata": {
    "id": "xqQILt-zYIMe"
   },
   "source": [
    "## \"Evaluation Of The Model.\""
   ]
  },
  {
   "cell_type": "code",
   "execution_count": 13,
   "metadata": {
    "colab": {
     "base_uri": "https://localhost:8080/"
    },
    "id": "od7kiEcpYIMe",
    "outputId": "690df429-b722-4a29-e112-789078a4130b"
   },
   "outputs": [
    {
     "name": "stdout",
     "output_type": "stream",
     "text": [
      "Mean Absolute Error: 4.425394675156183\n",
      "Mean Squared Error: 23.516396034595225\n",
      "R^2 score: 0.9553509219739938\n"
     ]
    }
   ],
   "source": [
    "from sklearn.metrics import mean_absolute_error, mean_squared_error, r2_score\n",
    "print(\"Mean Absolute Error:- \",mean_absolute_error(y_test, y_pred))\n",
    "print(\"Mean Squared Error:- \",mean_squared_error(y_test, y_pred))\n",
    "print(\"R^2 score:- \",r2_score(y_test, y_pred))"
   ]
  },
  {
   "cell_type": "markdown",
   "metadata": {},
   "source": [
    "## <font color = 'red'>\"Here The value of r^2 for this Linear Regression model is 0.9553\"  </font>"
   ]
  },
  {
   "cell_type": "markdown",
   "metadata": {},
   "source": [
    "# \"Visualization of the data.\""
   ]
  },
  {
   "cell_type": "code",
   "execution_count": 41,
   "metadata": {},
   "outputs": [
    {
     "data": {
      "image/png": "[encoded data removed]",
      "text/plain": [
       "<Figure size 432x288 with 1 Axes>"
      ]
     },
     "metadata": {
      "needs_background": "light"
     },
     "output_type": "display_data"
    }
   ],
   "source": [
    "plt.scatter(x,y,color = \"darkblue\")\n",
    "plt.title('...\"Hours v/s Percentage\"...',size=20, color= 'red')\n",
    "plt.xlabel('...\"Study Hours\"...',size=20, color= 'blue')\n",
    "plt.ylabel('...\"Score in Percentage\"...',size=20, color= 'green')\n",
    "plt.show()"
   ]
  },
  {
   "cell_type": "markdown",
   "metadata": {},
   "source": [
    "#### Observation :- There is a linear correlation between the study hours and percentage score."
   ]
  },
  {
   "cell_type": "markdown",
   "metadata": {
    "id": "1hLch-q4YIMe"
   },
   "source": [
    "## Question is That:- \n",
    "### <font color = red>\"What will be predicted score if a student studies for 9.25 hrs/ day?\" </font>"
   ]
  },
  {
   "cell_type": "code",
   "execution_count": 40,
   "metadata": {
    "colab": {
     "base_uri": "https://localhost:8080/"
    },
    "id": "LlaxMMF4YIMe",
    "outputId": "8a351a6d-484e-4c18-a11e-0cbe94df24c9"
   },
   "outputs": [
    {
     "name": "stdout",
     "output_type": "stream",
     "text": [
      "Enter the number of study hrs/day:- 9.25\n",
      "Predicted Percentage:- 92.3357 \n"
     ]
    }
   ],
   "source": [
    "hours = float(input(\"Enter the number of study hrs/day:- \"))\n",
    "pred = lr.predict([[hours]])\n",
    "print(\"Predicted Percentage:- %.4f \" %(pred))"
   ]
  },
  {
   "cell_type": "markdown",
   "metadata": {
    "id": "2foPI-s_YIMf"
   },
   "source": [
    "# Conclusion is that:-\n",
    "## <font color = 'red'>\"If A Student Studies for 9.25 hrs/day then he/she will score</font> <font color= 'Blue'> 92.3357%.</font> <font color='red'>and The value of r^2 for this Linear Regression model is</font> <font color='blue'>0.9553 </font> <font color ='red'>\"</font>\n",
    "\n"
   ]
  }
 ],
 "metadata": {
  "colab": {
   "name": "Task1.ipynb",
   "provenance": []
  },
  "kernelspec": {
   "display_name": "Python 3",
   "language": "python",
   "name": "python3"
  },
  "language_info": {
   "codemirror_mode": {
    "name": "ipython",
    "version": 3
   },
   "file_extension": ".py",
   "mimetype": "text/x-python",
   "name": "python",
   "nbconvert_exporter": "python",
   "pygments_lexer": "ipython3",
   "version": "3.8.8"
  }
 },
 "nbformat": 4,
 "nbformat_minor": 1
}
